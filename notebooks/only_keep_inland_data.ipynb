{
 "cells": [
  {
   "cell_type": "code",
   "execution_count": 1,
   "metadata": {},
   "outputs": [],
   "source": [
    "import geopandas as gpd"
   ]
  },
  {
   "cell_type": "code",
   "execution_count": 2,
   "metadata": {},
   "outputs": [],
   "source": [
    "gpdf = gpd.read_file(\"world_grid_25000_with_fractions.gpkg\")"
   ]
  },
  {
   "cell_type": "code",
   "execution_count": 8,
   "metadata": {},
   "outputs": [],
   "source": [
    "filtered_gpdf = gpdf[gpdf['land_fraction'] >= 1]"
   ]
  },
  {
   "cell_type": "code",
   "execution_count": 24,
   "metadata": {},
   "outputs": [
    {
     "name": "stdout",
     "output_type": "stream",
     "text": [
      "-982500.000000_14012500.000000\n",
      "-1007500.000000_14012500.000000\n",
      "1094\n",
      "1094\n",
      "2418\n"
     ]
    }
   ],
   "source": [
    "import os\n",
    "\n",
    "annotations = os.listdir('annotations')\n",
    "annotations = [anno.split('.tif')[0] for anno in annotations]\n",
    "\n",
    "\n",
    "inland_data = filtered_gpdf['ID'].to_list()\n",
    "\n",
    "filtered = []\n",
    "print(inland_data[0])\n",
    "print(annotations[0])\n",
    "for anno in annotations:\n",
    "    if anno in inland_data:\n",
    "      #  print(\"yes\")\n",
    "        filtered.append(anno)\n",
    "  #  else:\n",
    "        #print(\"No\")\n",
    "print(len(filtered))\n",
    "print(len(inland_data))\n",
    "print(len(annotations))\n",
    "\n"
   ]
  },
  {
   "cell_type": "code",
   "execution_count": 25,
   "metadata": {},
   "outputs": [
    {
     "name": "stdout",
     "output_type": "stream",
     "text": [
      "Listan har sparats i \"filtered_list.txt\"\n"
     ]
    }
   ],
   "source": [
    "with open('filtered_list.txt', 'w') as file:\n",
    "    # Iterera över varje element i listan 'filtered'\n",
    "    for item in filtered:\n",
    "        # Skriv varje element följt av en ny rad-tecken\n",
    "        file.write(item + '\\n')\n",
    "\n",
    "# Meddelande när filen har skapats\n",
    "print('Listan har sparats i \"filtered_list.txt\"')"
   ]
  },
  {
   "cell_type": "code",
   "execution_count": null,
   "metadata": {},
   "outputs": [],
   "source": []
  },
  {
   "cell_type": "code",
   "execution_count": null,
   "metadata": {},
   "outputs": [],
   "source": []
  }
 ],
 "metadata": {
  "kernelspec": {
   "display_name": "google_earth",
   "language": "python",
   "name": "python3"
  },
  "language_info": {
   "codemirror_mode": {
    "name": "ipython",
    "version": 3
   },
   "file_extension": ".py",
   "mimetype": "text/x-python",
   "name": "python",
   "nbconvert_exporter": "python",
   "pygments_lexer": "ipython3",
   "version": "3.11.5"
  }
 },
 "nbformat": 4,
 "nbformat_minor": 2
}
